{
 "cells": [
  {
   "cell_type": "code",
   "execution_count": 2,
   "metadata": {
    "collapsed": false
   },
   "outputs": [
    {
     "ename": "AttributeError",
     "evalue": "'int' object has no attribute 'close'",
     "output_type": "error",
     "traceback": [
      "\u001b[0;31m---------------------------------------------------------------------------\u001b[0m",
      "\u001b[0;31mAttributeError\u001b[0m                            Traceback (most recent call last)",
      "\u001b[0;32m<ipython-input-2-8c013136c981>\u001b[0m in \u001b[0;36m<module>\u001b[0;34m()\u001b[0m\n\u001b[1;32m      2\u001b[0m \u001b[0mfilename\u001b[0m \u001b[0;34m=\u001b[0m \u001b[0;34m'test/simi.cbf'\u001b[0m\u001b[0;34m\u001b[0m\u001b[0m\n\u001b[1;32m      3\u001b[0m \u001b[0mfile_descriptor\u001b[0m \u001b[0;34m=\u001b[0m \u001b[0mos\u001b[0m\u001b[0;34m.\u001b[0m\u001b[0mopen\u001b[0m\u001b[0;34m(\u001b[0m\u001b[0mfilename\u001b[0m\u001b[0;34m,\u001b[0m \u001b[0mos\u001b[0m\u001b[0;34m.\u001b[0m\u001b[0mO_RDONLY\u001b[0m\u001b[0;34m)\u001b[0m\u001b[0;34m\u001b[0m\u001b[0m\n\u001b[0;32m----> 4\u001b[0;31m \u001b[0mfile_descriptor\u001b[0m\u001b[0;34m.\u001b[0m\u001b[0mclose\u001b[0m\u001b[0;34m(\u001b[0m\u001b[0;34m)\u001b[0m\u001b[0;34m\u001b[0m\u001b[0m\n\u001b[0m",
      "\u001b[0;31mAttributeError\u001b[0m: 'int' object has no attribute 'close'"
     ]
    }
   ],
   "source": [
    "import os\n",
    "filename = 'test/simi.cbf'\n",
    "file_descriptor = os.open(filename, os.O_RDONLY)\n"
   ]
  },
  {
   "cell_type": "code",
   "execution_count": 2,
   "metadata": {
    "collapsed": false
   },
   "outputs": [],
   "source": [
    "filename = 'example.cbf'\n",
    "file_descriptor = open(filename, 'rb')\n",
    "content = file_descriptor.read()\n",
    "index = content.find(b'\\x0C\\x1A\\x04\\xD5')\n",
    "file_descriptor.close()"
   ]
  },
  {
   "cell_type": "code",
   "execution_count": 54,
   "metadata": {
    "collapsed": false
   },
   "outputs": [
    {
     "name": "stdout",
     "output_type": "stream",
     "text": [
      "_array_data.data\r\n",
      ";\r\n",
      "--CIF-BINARY-FORMAT-SECTION--\r\n",
      "Content-Type: application/octet-stream;\r\n",
      "     conversions=\"x-CBF_BYTE_OFFSET\"\r\n",
      "Content-Transfer-Encoding: BINARY\r\n",
      "X-Binary-Size: 2478005\r\n",
      "X-Binary-ID: 1\r\n",
      "X-Binary-Element-Type: \"signed 32-bit integer\"\r\n",
      "X-Binary-Element-Byte-Order: LITTLE_ENDIAN\r\n",
      "Content-MD5: eoq+mJsz84VoQrwebVA8kg==\r\n",
      "X-Binary-Number-of-Elements: 2476525\r\n",
      "X-Binary-Size-Fastest-Dimension: 1475\r\n",
      "X-Binary-Size-Second-Dimension: 1679\r\n",
      "X-Binary-Size-Padding: 4095\r\n",
      "\r\n",
      "\n"
     ]
    }
   ],
   "source": [
    "print content[:index]"
   ]
  },
  {
   "cell_type": "code",
   "execution_count": 57,
   "metadata": {
    "collapsed": false
   },
   "outputs": [
    {
     "name": "stdout",
     "output_type": "stream",
     "text": [
      "_array_data.data\n",
      ";\n",
      "--CIF-BINARY-FORMAT-SECTION--\n",
      "Content-Type: application/octet-stream;\n",
      "     conversions=\"x-CBF_BYTE_OFFSET\"\n",
      "Content-Transfer-Encoding: BINARY\n",
      "X-Binary-Size: 2478005\n",
      "X-Binary-ID: 1\n",
      "X-Binary-Element-Type: \"signed 32-bit integer\"\n",
      "X-Binary-Element-Byte-Order: LITTLE_ENDIAN\n",
      "Content-MD5: eoq+mJsz84VoQrwebVA8kg==\n",
      "X-Binary-Number-of-Elements: 2476525\n",
      "X-Binary-Size-Fastest-Dimension: 1475\n",
      "X-Binary-Size-Second-Dimension: 1679\n",
      "X-Binary-Size-Padding: 4095\n",
      "\n"
     ]
    }
   ],
   "source": [
    "for i in content[:index].splitlines():\n",
    "    print i"
   ]
  },
  {
   "cell_type": "code",
   "execution_count": 58,
   "metadata": {
    "collapsed": false
   },
   "outputs": [
    {
     "name": "stdout",
     "output_type": "stream",
     "text": [
      "size 2478005\n",
      "id 1\n",
      "element_type \"signed 32-bit integer\"\n",
      "element_byte_order LITTLE_ENDIAN\n",
      "number_of_elements 2476525\n",
      "size_fastest_dimension 1475\n",
      "size_second_dimension 1679\n",
      "size_padding 4095\n",
      "{'size_padding': 4095, 'element_type': '\"signed 32-bit integer\"', 'number_of_elements': 2476525, 'size_second_dimension': 1679, 'element_byte_order': 'LITTLE_ENDIAN', 'size': 2478005, 'id': 1, 'size_fastest_dimension': 1475}\n"
     ]
    }
   ],
   "source": [
    "import re\n",
    "file_header = content[:index]\n",
    "pattern = re.compile(r'X-Binary-([\\w-]*)([\\s:]*)(.*)')\n",
    "header = dict()\n",
    "for line in file_header.splitlines():\n",
    "    m = pattern.search(line)\n",
    "    if m:\n",
    "        key = m.group(1).lower().replace('-', '_')\n",
    "        val = m.group(3).strip()\n",
    "        try:\n",
    "            val = int(val)\n",
    "        except ValueError:\n",
    "            try:\n",
    "                val = float(val)\n",
    "            except ValueError:\n",
    "                val = val\n",
    "        print key, val\n",
    "        header[key] = val\n",
    "print header"
   ]
  },
  {
   "cell_type": "code",
   "execution_count": 40,
   "metadata": {
    "collapsed": false
   },
   "outputs": [
    {
     "name": "stdout",
     "output_type": "stream",
     "text": [
      "4\n"
     ]
    }
   ],
   "source": [
    "import numpy\n",
    "dtype = numpy.uint32\n",
    "print dtype(0).nbytes"
   ]
  },
  {
   "cell_type": "code",
   "execution_count": 88,
   "metadata": {
    "collapsed": false
   },
   "outputs": [
    {
     "data": {
      "text/plain": [
       "<module 'cbf2' from 'cbf2.py'>"
      ]
     },
     "execution_count": 88,
     "metadata": {},
     "output_type": "execute_result"
    }
   ],
   "source": [
    "import cbf2\n",
    "reload(cbf2)"
   ]
  },
  {
   "cell_type": "code",
   "execution_count": 89,
   "metadata": {
    "collapsed": false
   },
   "outputs": [
    {
     "name": "stdout",
     "output_type": "stream",
     "text": [
      "{'size_padding': 4095, 'element_type': '\"signed 32-bit integer\"', 'number_of_elements': 2476525, 'size_second_dimension': 1679, 'element_byte_order': 'LITTLE_ENDIAN', 'size': 2478005, 'id': 1, 'size_fastest_dimension': 1475}\n"
     ]
    }
   ],
   "source": [
    "data = cbf2.read('test/simi.cbf')"
   ]
  },
  {
   "cell_type": "code",
   "execution_count": 90,
   "metadata": {
    "collapsed": false
   },
   "outputs": [
    {
     "data": {
      "text/plain": [
       "array([[0, 2, 1, ..., 1, 2, 1],\n",
       "       [0, 0, 1, ..., 0, 2, 1],\n",
       "       [1, 2, 3, ..., 2, 0, 0],\n",
       "       ..., \n",
       "       [1, 2, 0, ..., 2, 1, 0],\n",
       "       [1, 1, 2, ..., 0, 0, 2],\n",
       "       [1, 1, 1, ..., 1, 2, 1]], dtype=uint32)"
      ]
     },
     "execution_count": 90,
     "metadata": {},
     "output_type": "execute_result"
    }
   ],
   "source": [
    "data.data"
   ]
  },
  {
   "cell_type": "code",
   "execution_count": 91,
   "metadata": {
    "collapsed": false
   },
   "outputs": [
    {
     "name": "stdout",
     "output_type": "stream",
     "text": [
      "2478005\n"
     ]
    }
   ],
   "source": [
    "cbf2.write('test/blubbb2.cbf', data.data)"
   ]
  },
  {
   "cell_type": "code",
   "execution_count": 92,
   "metadata": {
    "collapsed": true
   },
   "outputs": [],
   "source": [
    "import cbf"
   ]
  },
  {
   "cell_type": "code",
   "execution_count": 93,
   "metadata": {
    "collapsed": false
   },
   "outputs": [
    {
     "ename": "AttributeError",
     "evalue": "'module' object has no attribute 'read'",
     "output_type": "error",
     "traceback": [
      "\u001b[0;31m---------------------------------------------------------------------------\u001b[0m",
      "\u001b[0;31mAttributeError\u001b[0m                            Traceback (most recent call last)",
      "\u001b[0;32m<ipython-input-93-934deab3937d>\u001b[0m in \u001b[0;36m<module>\u001b[0;34m()\u001b[0m\n\u001b[0;32m----> 1\u001b[0;31m \u001b[0mcbf\u001b[0m\u001b[0;34m.\u001b[0m\u001b[0mread\u001b[0m\u001b[0;34m(\u001b[0m\u001b[0;34m'test/simi.cbf'\u001b[0m\u001b[0;34m)\u001b[0m\u001b[0;34m\u001b[0m\u001b[0m\n\u001b[0m",
      "\u001b[0;31mAttributeError\u001b[0m: 'module' object has no attribute 'read'"
     ]
    }
   ],
   "source": [
    "cbf.read('test/simi.cbf')"
   ]
  },
  {
   "cell_type": "code",
   "execution_count": null,
   "metadata": {
    "collapsed": true
   },
   "outputs": [],
   "source": []
  }
 ],
 "metadata": {
  "kernelspec": {
   "display_name": "Python 3",
   "language": "python",
   "name": "python3"
  },
  "language_info": {
   "codemirror_mode": {
    "name": "ipython",
    "version": 3
   },
   "file_extension": ".py",
   "mimetype": "text/x-python",
   "name": "python",
   "nbconvert_exporter": "python",
   "pygments_lexer": "ipython3",
   "version": "3.5.1"
  }
 },
 "nbformat": 4,
 "nbformat_minor": 0
}
